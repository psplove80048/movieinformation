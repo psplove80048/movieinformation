{
 "cells": [
  {
   "cell_type": "code",
   "execution_count": 7,
   "metadata": {},
   "outputs": [
    {
     "name": "stdout",
     "output_type": "stream",
     "text": [
      "請輸入電影名稱關鍵字： 咒\n",
      "評價總共有 40 篇\n",
      "好雷有 21 篇 / 好雷率為 52.50 %\n",
      "普雷有 8 篇 / 普雷率為 20.00 %\n",
      "負雷有 11 篇 / 負雷率為 27.50 %\n"
     ]
    }
   ],
   "source": [
    "import requests\n",
    "from bs4 import BeautifulSoup\n",
    "\n",
    "PAGE_LIMIT = 10\n",
    "URL = 'https://www.ptt.cc/bbs/movie/search'\n",
    "\n",
    "def is_title_valid(title = ''):\n",
    "    return (\n",
    "        '雷' in title\n",
    "        and '[' in title\n",
    "        and ']' in title\n",
    "        and 'Re' not in title\n",
    "    )\n",
    "\n",
    "def is_tag_good(tag = ''):\n",
    "    return ('好' in tag)\n",
    "\n",
    "def is_tag_bad(tag = ''):\n",
    "    return (('爛' in tag) or ('負' in tag))\n",
    "\n",
    "def is_tag_ordinary(tag = ''):\n",
    "    return (\n",
    "        '普' in tag\n",
    "        and '好' not in tag\n",
    "        and '爛' not in tag\n",
    "        and '負' not in tag\n",
    "    )\n",
    "\n",
    "movie_name = input(\"請輸入電影名稱關鍵字： \")\n",
    "\n",
    "titles = []\n",
    "\n",
    "for page in range(1, PAGE_LIMIT + 1):\n",
    "    if page and movie_name:\n",
    "        url = URL+'?page='+str(page)+'&q='+movie_name\n",
    "    else:\n",
    "        url = URL\n",
    "    res = requests.get(url)\n",
    "    soup = BeautifulSoup(res.text, features='lxml')\n",
    "    for entry in soup.select('.r-ent'):\n",
    "        titles.append(entry.select('.title')[0].text)\n",
    "print(titles)\n",
    "title_tags = [ title.split(']', 1)[0].split('[', 1)[1].replace(' ', '')  for title in titles if is_title_valid(title)]\n",
    "\n",
    "good_count = 0\n",
    "ordinary_count = 0\n",
    "bad_count = 0\n",
    "\n",
    "for tag in title_tags:\n",
    "    if is_tag_good(tag):\n",
    "        good_count += 1\n",
    "    elif is_tag_bad(tag):\n",
    "        bad_count += 1\n",
    "    elif is_tag_ordinary(tag):\n",
    "        ordinary_count += 1\n",
    "\n",
    "total_count = good_count + ordinary_count + bad_count\n",
    "\n",
    "\n",
    "if total_count > 0:\n",
    "    good_percent = (good_count / total_count) * 100\n",
    "    ordinary_percent = (ordinary_count / total_count) * 100\n",
    "    bad_percent = (bad_count / total_count) * 100\n",
    "\n",
    "    print(\n",
    "            f'評價總共有 {total_count} 篇\\n好雷有 {good_count} 篇 / 好雷率為 {good_percent:.2f} %%\\n'\n",
    "            f'普雷有 {ordinary_count} 篇 / 普雷率為 {ordinary_percent:.2f} %%\\n'\n",
    "            f'負雷有 {bad_count} 篇 / 負雷率為 {bad_percent:.2f} %%'\n",
    "        )\n",
    "else:\n",
    "    print('查無資料')"
   ]
  }
 ],
 "metadata": {
  "kernelspec": {
   "display_name": "Python 3",
   "language": "python",
   "name": "python3"
  },
  "language_info": {
   "codemirror_mode": {
    "name": "ipython",
    "version": 3
   },
   "file_extension": ".py",
   "mimetype": "text/x-python",
   "name": "python",
   "nbconvert_exporter": "python",
   "pygments_lexer": "ipython3",
   "version": "3.6.9"
  }
 },
 "nbformat": 4,
 "nbformat_minor": 4
}
